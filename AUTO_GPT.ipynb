{
  "nbformat": 4,
  "nbformat_minor": 0,
  "metadata": {
    "colab": {
      "provenance": []
    },
    "kernelspec": {
      "name": "python3",
      "display_name": "Python 3"
    },
    "language_info": {
      "name": "python"
    }
  },
  "cells": [
    {
      "cell_type": "markdown",
      "source": [
        "# AUTO-GPT INSTALLATION PROCESS ON GOOGLE COLAB\n",
        "Disclaimer : We adapted the installation process to our environment, however the original codes, including github repo are available at https://github.com/Significant-Gravitas/Auto-GPT"
      ],
      "metadata": {
        "id": "hfC_zH7r6yf0"
      }
    },
    {
      "cell_type": "markdown",
      "source": [
        "**PHASE I : ENABLING WEB ABILITIES : SELENIUM**"
      ],
      "metadata": {
        "id": "8C2UDlCC631g"
      }
    },
    {
      "cell_type": "code",
      "execution_count": 1,
      "metadata": {
        "colab": {
          "base_uri": "https://localhost:8080/"
        },
        "id": "GCuwYdzh5C4p",
        "outputId": "e668e3db-ae05-4377-ad0d-95cf2be86f20"
      },
      "outputs": [
        {
          "output_type": "stream",
          "name": "stdout",
          "text": [
            "/bin/bash: line 1: chromedriver: command not found\n",
            "/bin/bash: line 1: chromedriver: command not found\n",
            "Get:1 https://cloud.r-project.org/bin/linux/ubuntu jammy-cran40/ InRelease [3,626 B]\n",
            "Get:2 https://developer.download.nvidia.com/compute/cuda/repos/ubuntu2204/x86_64  InRelease [1,581 B]\n",
            "Hit:3 http://archive.ubuntu.com/ubuntu jammy InRelease\n",
            "Get:4 http://security.ubuntu.com/ubuntu jammy-security InRelease [110 kB]\n",
            "Get:5 http://archive.ubuntu.com/ubuntu jammy-updates InRelease [119 kB]\n",
            "Get:6 https://cloud.r-project.org/bin/linux/ubuntu jammy-cran40/ Packages [43.3 kB]\n",
            "Get:7 http://archive.ubuntu.com/ubuntu jammy-backports InRelease [109 kB]\n",
            "Get:8 https://developer.download.nvidia.com/compute/cuda/repos/ubuntu2204/x86_64  Packages [456 kB]\n",
            "Hit:9 https://ppa.launchpadcontent.net/c2d4u.team/c2d4u4.0+/ubuntu jammy InRelease\n",
            "Hit:10 https://ppa.launchpadcontent.net/deadsnakes/ppa/ubuntu jammy InRelease\n",
            "Get:11 http://archive.ubuntu.com/ubuntu jammy-updates/main amd64 Packages [1,103 kB]\n",
            "Get:12 http://archive.ubuntu.com/ubuntu jammy-updates/universe amd64 Packages [1,235 kB]\n",
            "Get:13 http://archive.ubuntu.com/ubuntu jammy-backports/main amd64 Packages [49.2 kB]\n",
            "Get:14 http://archive.ubuntu.com/ubuntu jammy-backports/universe amd64 Packages [25.6 kB]\n",
            "Hit:15 https://ppa.launchpadcontent.net/graphics-drivers/ppa/ubuntu jammy InRelease\n",
            "Get:16 http://security.ubuntu.com/ubuntu jammy-security/main amd64 Packages [833 kB]\n",
            "Hit:17 https://ppa.launchpadcontent.net/ubuntugis/ppa/ubuntu jammy InRelease\n",
            "Get:18 http://security.ubuntu.com/ubuntu jammy-security/universe amd64 Packages [979 kB]\n",
            "Fetched 5,067 kB in 3s (1,589 kB/s)\n",
            "Reading package lists... Done\n",
            "Reading package lists... Done\n",
            "Building dependency tree... Done\n",
            "Reading state information... Done\n",
            "The following additional packages will be installed:\n",
            "  apparmor libfuse3-3 liblzo2-2 snapd squashfs-tools systemd-hwe-hwdb udev\n",
            "Suggested packages:\n",
            "  apparmor-profiles-extra apparmor-utils fuse3 zenity | kdialog\n",
            "The following NEW packages will be installed:\n",
            "  apparmor chromium-browser libfuse3-3 liblzo2-2 snapd squashfs-tools\n",
            "  systemd-hwe-hwdb udev\n",
            "0 upgraded, 8 newly installed, 0 to remove and 30 not upgraded.\n",
            "Need to get 26.3 MB of archives.\n",
            "After this operation, 116 MB of additional disk space will be used.\n",
            "Get:1 http://archive.ubuntu.com/ubuntu jammy-updates/main amd64 apparmor amd64 3.0.4-2ubuntu2.2 [595 kB]\n",
            "Get:2 http://archive.ubuntu.com/ubuntu jammy/main amd64 liblzo2-2 amd64 2.10-2build3 [53.7 kB]\n",
            "Get:3 http://archive.ubuntu.com/ubuntu jammy/main amd64 squashfs-tools amd64 1:4.5-3build1 [159 kB]\n",
            "Get:4 http://archive.ubuntu.com/ubuntu jammy-updates/main amd64 udev amd64 249.11-0ubuntu3.9 [1,557 kB]\n",
            "Get:5 http://archive.ubuntu.com/ubuntu jammy/main amd64 libfuse3-3 amd64 3.10.5-1build1 [81.2 kB]\n",
            "Get:6 http://archive.ubuntu.com/ubuntu jammy-updates/main amd64 snapd amd64 2.58+22.04.1 [23.8 MB]\n",
            "Get:7 http://archive.ubuntu.com/ubuntu jammy-updates/universe amd64 chromium-browser amd64 1:85.0.4183.83-0ubuntu2.22.04.1 [49.2 kB]\n",
            "Get:8 http://archive.ubuntu.com/ubuntu jammy-updates/main amd64 systemd-hwe-hwdb all 249.11.3 [2,908 B]\n",
            "Fetched 26.3 MB in 1s (30.4 MB/s)\n",
            "Preconfiguring packages ...\n",
            "Selecting previously unselected package apparmor.\n",
            "(Reading database ... 120500 files and directories currently installed.)\n",
            "Preparing to unpack .../0-apparmor_3.0.4-2ubuntu2.2_amd64.deb ...\n",
            "Unpacking apparmor (3.0.4-2ubuntu2.2) ...\n",
            "Selecting previously unselected package liblzo2-2:amd64.\n",
            "Preparing to unpack .../1-liblzo2-2_2.10-2build3_amd64.deb ...\n",
            "Unpacking liblzo2-2:amd64 (2.10-2build3) ...\n",
            "Selecting previously unselected package squashfs-tools.\n",
            "Preparing to unpack .../2-squashfs-tools_1%3a4.5-3build1_amd64.deb ...\n",
            "Unpacking squashfs-tools (1:4.5-3build1) ...\n",
            "Selecting previously unselected package udev.\n",
            "Preparing to unpack .../3-udev_249.11-0ubuntu3.9_amd64.deb ...\n",
            "Unpacking udev (249.11-0ubuntu3.9) ...\n",
            "Selecting previously unselected package libfuse3-3:amd64.\n",
            "Preparing to unpack .../4-libfuse3-3_3.10.5-1build1_amd64.deb ...\n",
            "Unpacking libfuse3-3:amd64 (3.10.5-1build1) ...\n",
            "Selecting previously unselected package snapd.\n",
            "Preparing to unpack .../5-snapd_2.58+22.04.1_amd64.deb ...\n",
            "Unpacking snapd (2.58+22.04.1) ...\n",
            "Setting up apparmor (3.0.4-2ubuntu2.2) ...\n",
            "Created symlink /etc/systemd/system/sysinit.target.wants/apparmor.service → /lib/systemd/system/apparmor.service.\n",
            "Setting up liblzo2-2:amd64 (2.10-2build3) ...\n",
            "Setting up squashfs-tools (1:4.5-3build1) ...\n",
            "Setting up udev (249.11-0ubuntu3.9) ...\n",
            "invoke-rc.d: could not determine current runlevel\n",
            "invoke-rc.d: policy-rc.d denied execution of start.\n",
            "Setting up libfuse3-3:amd64 (3.10.5-1build1) ...\n",
            "Setting up snapd (2.58+22.04.1) ...\n",
            "Created symlink /etc/systemd/system/multi-user.target.wants/snapd.aa-prompt-listener.service → /lib/systemd/system/snapd.aa-prompt-listener.service.\n",
            "Created symlink /etc/systemd/system/multi-user.target.wants/snapd.apparmor.service → /lib/systemd/system/snapd.apparmor.service.\n",
            "Created symlink /etc/systemd/system/multi-user.target.wants/snapd.autoimport.service → /lib/systemd/system/snapd.autoimport.service.\n",
            "Created symlink /etc/systemd/system/multi-user.target.wants/snapd.core-fixup.service → /lib/systemd/system/snapd.core-fixup.service.\n",
            "Created symlink /etc/systemd/system/multi-user.target.wants/snapd.recovery-chooser-trigger.service → /lib/systemd/system/snapd.recovery-chooser-trigger.service.\n",
            "Created symlink /etc/systemd/system/multi-user.target.wants/snapd.seeded.service → /lib/systemd/system/snapd.seeded.service.\n",
            "Created symlink /etc/systemd/system/cloud-final.service.wants/snapd.seeded.service → /lib/systemd/system/snapd.seeded.service.\n",
            "Unit /lib/systemd/system/snapd.seeded.service is added as a dependency to a non-existent unit cloud-final.service.\n",
            "Created symlink /etc/systemd/system/multi-user.target.wants/snapd.service → /lib/systemd/system/snapd.service.\n",
            "Created symlink /etc/systemd/system/timers.target.wants/snapd.snap-repair.timer → /lib/systemd/system/snapd.snap-repair.timer.\n",
            "Created symlink /etc/systemd/system/sockets.target.wants/snapd.socket → /lib/systemd/system/snapd.socket.\n",
            "Created symlink /etc/systemd/system/final.target.wants/snapd.system-shutdown.service → /lib/systemd/system/snapd.system-shutdown.service.\n",
            "Selecting previously unselected package chromium-browser.\n",
            "(Reading database ... 120940 files and directories currently installed.)\n",
            "Preparing to unpack .../chromium-browser_1%3a85.0.4183.83-0ubuntu2.22.04.1_amd64.deb ...\n",
            "=> Installing the chromium snap\n",
            "==> Checking connectivity with the snap store\n",
            "===> System doesn't have a working snapd, skipping\n",
            "Unpacking chromium-browser (1:85.0.4183.83-0ubuntu2.22.04.1) ...\n",
            "Selecting previously unselected package systemd-hwe-hwdb.\n",
            "Preparing to unpack .../systemd-hwe-hwdb_249.11.3_all.deb ...\n",
            "Unpacking systemd-hwe-hwdb (249.11.3) ...\n",
            "Setting up systemd-hwe-hwdb (249.11.3) ...\n",
            "Setting up chromium-browser (1:85.0.4183.83-0ubuntu2.22.04.1) ...\n",
            "update-alternatives: using /usr/bin/chromium-browser to provide /usr/bin/x-www-browser (x-www-browser) in auto mode\n",
            "update-alternatives: using /usr/bin/chromium-browser to provide /usr/bin/gnome-www-browser (gnome-www-browser) in auto mode\n",
            "Processing triggers for libc-bin (2.35-0ubuntu3.1) ...\n",
            "Processing triggers for man-db (2.10.2-1) ...\n",
            "Processing triggers for dbus (1.12.20-2ubuntu4.1) ...\n",
            "Processing triggers for udev (249.11-0ubuntu3.9) ...\n",
            "Processing triggers for hicolor-icon-theme (0.17-2) ...\n"
          ]
        }
      ],
      "source": [
        "# Retrieve and display version of current chromedriver if applicable\n",
        "!chromedriver --version\n",
        "# Start\n",
        "!chromedriver\n",
        "# Update and install the chromium browser\n",
        "!apt-get update\n",
        "!apt-get install -y chromium-browser"
      ]
    },
    {
      "cell_type": "code",
      "source": [
        "# We get the app updates and retrieve the official repository as packacge\n",
        "!apt-get update\n",
        "!apt-get install -y unzip xvfb libxi6 libgconf-2-4\n",
        "!curl -sS -o - https://dl-ssl.google.com/linux/linux_signing_key.pub | apt-key add\n",
        "!echo \"deb [arch=amd64]  http://dl.google.com/linux/chrome/deb/ stable main\" >> /etc/apt/sources.list.d/google-chrome.list\n",
        "!apt-get -y update # We update the pack again\n",
        "!apt-get -y install google-chrome-stable"
      ],
      "metadata": {
        "id": "p_8lSk3S5Fbi"
      },
      "execution_count": null,
      "outputs": []
    },
    {
      "cell_type": "code",
      "source": [
        "!google-chrome-stable --version # We verify the version we have for compatibility"
      ],
      "metadata": {
        "id": "dEwnHJrz5Jy6"
      },
      "execution_count": null,
      "outputs": []
    },
    {
      "cell_type": "code",
      "source": [
        "# The previous step is important because we have to download ChromeDriver here :  https://chromedriver.chromium.org/downloads, so must know the appropriate version\n",
        "!wget https://chromedriver.storage.googleapis.com/114.0.5735.90/chromedriver_linux64.zip # Website to retrieve the chromedriver\n",
        "!unzip chromedriver_linux64.zip\n",
        "!sudo mv chromedriver /usr/bin/chromedriver # We allow the system, the installation process does not proceed without\n",
        "!sudo chown root:root /usr/bin/chromedriver\n",
        "!sudo chmod +x /usr/bin/chromedriver"
      ],
      "metadata": {
        "id": "1p-RTR3g5Lu_"
      },
      "execution_count": null,
      "outputs": []
    },
    {
      "cell_type": "code",
      "source": [
        "# We download the chromedriver from\n",
        "!wget https://chromedriver.storage.googleapis.com/2.41/chromedriver_linux64.zip\n",
        "\n",
        "# we unzip the chromedriver\n",
        "!unzip chromedriver_linux64.zip\n"
      ],
      "metadata": {
        "id": "keaSIzOj5MUE"
      },
      "execution_count": null,
      "outputs": []
    },
    {
      "cell_type": "code",
      "source": [
        "# We install and upgrade the selenium package\n",
        "!pip install --upgrade selenium\n",
        "from selenium import webdriver\n",
        "from selenium.webdriver.chrome.options import Options\n",
        "from selenium.webdriver.chrome.service import Service\n",
        "\n",
        "# we setup the options, the mode is \"headless\" since we're using ggcolab\n",
        "chrome_options = Options()\n",
        "chrome_options.add_argument('--headless')\n",
        "chrome_options.add_argument('--no-sandbox')\n",
        "chrome_options.add_argument('--disable-dev-shm-usage')\n",
        "\n",
        "#  we specify the path to the exec file\n",
        "webdriver_service = Service('./chromedriver')\n",
        "\n",
        "# we itintialise the driver\n",
        "driver = webdriver.Chrome(service=webdriver_service, options=chrome_options)\n",
        "\n",
        "# As a run ,we specify a website\n",
        "driver.get(\"http://google.com/\")\n",
        "\n",
        "# we print out a htlm, it should display if it works\n",
        "print(driver.page_source)\n",
        "\n",
        "\n",
        "driver.close()\n",
        "driver.quit()"
      ],
      "metadata": {
        "id": "aCI4LfS95RfM"
      },
      "execution_count": null,
      "outputs": []
    },
    {
      "cell_type": "markdown",
      "source": [
        "# **Auto-GPT, Installation**"
      ],
      "metadata": {
        "id": "fNcOIpdo6mIE"
      }
    },
    {
      "cell_type": "code",
      "source": [
        "# First we clone the githup Repository\n",
        "!git clone https://github.com/Significant-Gravitas/Auto-GPT.git"
      ],
      "metadata": {
        "id": "ZlzlcaDP5SLZ"
      },
      "execution_count": null,
      "outputs": []
    },
    {
      "cell_type": "code",
      "source": [
        "# The current auto-gpt does not function on the master branch so we initialise a code to switch from the master branch to the stable branch\n",
        "import os\n",
        "import subprocess\n",
        "\n",
        "# We change the directory\n",
        "os.chdir(\"/content/Auto-GPT\")\n",
        "\n",
        "# Change from master to stable\n",
        "subprocess.run([\"git\", \"checkout\", \"stable\"])"
      ],
      "metadata": {
        "id": "phFKmoYx5YFW"
      },
      "execution_count": null,
      "outputs": []
    },
    {
      "cell_type": "code",
      "source": [
        "!pip install -r requirements.txt # We install the dependencies"
      ],
      "metadata": {
        "id": "KMEX6INA5gKX"
      },
      "execution_count": null,
      "outputs": []
    },
    {
      "cell_type": "code",
      "source": [
        "!cp .env.template .env # We create a copy  of the file"
      ],
      "metadata": {
        "id": "f3c15lS55jU5"
      },
      "execution_count": 11,
      "outputs": []
    },
    {
      "cell_type": "code",
      "source": [
        "# here, we designate the variables (openAI, Pinecone and Google Search API keys)\n",
        "import os\n",
        "from dotenv import load_dotenv\n",
        "# We store the  OPEN_AI API KEY :\n",
        "os.environ[\"OPENAI_API_KEY\"] = 'Insert API Key, since we are uploading on github, we removed this part'\n",
        "\n",
        "# we store the Google API key\n",
        "os.environ[\"GOOGLE_API_KEY\"] = 'Insert API Key, since we are uploading on github, we removed this part'\n",
        "\n",
        "# we specify the file path to the env file to update with the variables\n",
        "env_file_path = '/content/Auto-GPT/.env'\n",
        "\n",
        "# this command will load the mods within the env file\n",
        "load_dotenv(env_file_path)\n",
        "\n",
        "# we read the file\n",
        "with open(env_file_path, 'r') as file:\n",
        "    content = file.readlines()\n",
        "\n",
        "# We use this code to replace the variables in the file, careful for the spaces, must be identical to how it is in the file\n",
        "for i, line in enumerate(content):\n",
        "    if line.startswith('OPENAI_API_KEY='):\n",
        "        content[i] = 'OPENAI_API_KEY=' + os.getenv('OPENAI_API_KEY') + '\\n'\n",
        "    elif line.startswith('# GOOGLE_API_KEY='):\n",
        "        content[i] = '# GOOGLE_API_KEY=' + os.getenv('GOOGLE_API_KEY') + '\\n'\n",
        "    elif line.startswith('# MEMORY_BACKEND='):\n",
        "        content[i] = '# MEMORY_BACKEND=pinecone\\n'\n",
        "\n",
        "# We write the modifications in the file\n",
        "with open(env_file_path, 'w') as file:\n",
        "    file.writelines(content)\n",
        "\n",
        "\n",
        "openai_api_key = os.getenv('OPENAI_API_KEY')\n",
        "google_api_key = os.getenv('GOOGLE_API_KEY')\n",
        "memory_backend = os.getenv('MEMORY_BACKEND')"
      ],
      "metadata": {
        "id": "qiOK-oM-5qYB"
      },
      "execution_count": 12,
      "outputs": []
    },
    {
      "cell_type": "code",
      "source": [
        "!cat .env # print out the content of the file to check if the operation worked"
      ],
      "metadata": {
        "id": "QHIM-25H6F1L"
      },
      "execution_count": null,
      "outputs": []
    },
    {
      "cell_type": "code",
      "source": [
        " !bash run.sh # This command runs the code"
      ],
      "metadata": {
        "id": "QVqN3txv6IWr"
      },
      "execution_count": null,
      "outputs": []
    }
  ]
}